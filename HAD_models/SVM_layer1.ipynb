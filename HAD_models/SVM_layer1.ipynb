{
  "nbformat": 4,
  "nbformat_minor": 0,
  "metadata": {
    "accelerator": "GPU",
    "colab": {
      "name": "Akim_thesis_SVM.ipynb",
      "provenance": [],
      "collapsed_sections": []
    },
    "kernelspec": {
      "display_name": "Python 3",
      "name": "python3"
    },
    "language_info": {
      "name": "python"
    }
  },
  "cells": [
    {
      "cell_type": "code",
      "metadata": {
        "id": "CPt8Xt17J7Eq"
      },
      "source": [
        "from IPython.core.interactiveshell import InteractiveShell\n",
        "InteractiveShell.ast_node_interactivity = \"all\""
      ],
      "execution_count": null,
      "outputs": []
    },
    {
      "cell_type": "code",
      "metadata": {
        "colab": {
          "base_uri": "https://localhost:8080/"
        },
        "id": "SOQIumogPI1n",
        "outputId": "81be49ee-1374-4bab-a122-6c8c41428fea"
      },
      "source": [
        "%tensorflow_version 1.x\n",
        "import sys\n",
        "import os\n",
        "import json\n",
        "import pandas as pd\n",
        "import numpy as np\n",
        "import optparse\n",
        "import tensorflow\n",
        "from tensorflow import keras\n",
        "from tensorflow.keras import layers\n",
        "#from tensorflow.keras.layers.experimental import RandomFourierFeatures\n",
        "from tensorflow.keras.callbacks import TensorBoard\n",
        "from tensorflow.keras.models import Sequential\n",
        "from tensorflow.keras.layers import LSTM, Dense, Dropout\n",
        "#from tensorflow.keras.layers.Embedding import Embedding\n",
        "from tensorflow.keras.preprocessing import sequence\n",
        "from tensorflow.keras.preprocessing.text import Tokenizer\n",
        "from collections import OrderedDict"
      ],
      "execution_count": null,
      "outputs": [
        {
          "output_type": "stream",
          "name": "stdout",
          "text": [
            "TensorFlow 1.x selected.\n"
          ]
        }
      ]
    },
    {
      "cell_type": "code",
      "metadata": {
        "colab": {
          "base_uri": "https://localhost:8080/"
        },
        "id": "xo4RT6P-geLa",
        "outputId": "bd675201-4a2e-4fd7-c744-fcfdf6f40142"
      },
      "source": [
        "print(tensorflow.__version__)"
      ],
      "execution_count": null,
      "outputs": [
        {
          "output_type": "stream",
          "name": "stdout",
          "text": [
            "1.15.2\n"
          ]
        }
      ]
    },
    {
      "cell_type": "code",
      "metadata": {
        "colab": {
          "base_uri": "https://localhost:8080/"
        },
        "id": "o5MRlnlDJ--C",
        "outputId": "28b033cd-f3ad-49b3-f02f-055841371dba"
      },
      "source": [
        "# Run this cell only if you are using Colab with Drive\n",
        "from google.colab import drive\n",
        "drive.mount('/content/drive')"
      ],
      "execution_count": null,
      "outputs": [
        {
          "output_type": "stream",
          "name": "stdout",
          "text": [
            "Mounted at /content/drive\n"
          ]
        }
      ]
    },
    {
      "cell_type": "code",
      "metadata": {
        "colab": {
          "base_uri": "https://localhost:8080/"
        },
        "id": "BmCHb7uYNft2",
        "outputId": "d5d7a2be-2be4-4451-8e35-b746456a1afb"
      },
      "source": [
        "import os\n",
        "cwd = os.getcwd()\n",
        "dataset_dir = os.path.join(cwd,\"drive\",\"MyDrive\", 'Akim_thesis/dataset')\n",
        "print(dataset_dir)"
      ],
      "execution_count": null,
      "outputs": [
        {
          "output_type": "stream",
          "name": "stdout",
          "text": [
            "/content/drive/MyDrive/Akim_thesis/dataset\n"
          ]
        }
      ]
    },
    {
      "cell_type": "code",
      "metadata": {
        "colab": {
          "base_uri": "https://localhost:8080/",
          "height": 203
        },
        "id": "BOkocxySGBBt",
        "outputId": "0d2cafbd-881e-49f1-a563-e2aa63f933c4"
      },
      "source": [
        "dataset = pd.read_csv (r''+dataset_dir+'/test.csv')\n",
        "dataset.head()"
      ],
      "execution_count": null,
      "outputs": [
        {
          "output_type": "execute_result",
          "data": {
            "text/html": [
              "<div>\n",
              "<style scoped>\n",
              "    .dataframe tbody tr th:only-of-type {\n",
              "        vertical-align: middle;\n",
              "    }\n",
              "\n",
              "    .dataframe tbody tr th {\n",
              "        vertical-align: top;\n",
              "    }\n",
              "\n",
              "    .dataframe thead th {\n",
              "        text-align: right;\n",
              "    }\n",
              "</style>\n",
              "<table border=\"1\" class=\"dataframe\">\n",
              "  <thead>\n",
              "    <tr style=\"text-align: right;\">\n",
              "      <th></th>\n",
              "      <th>Date</th>\n",
              "      <th>Time</th>\n",
              "      <th>PID</th>\n",
              "      <th>Level</th>\n",
              "      <th>Label</th>\n",
              "      <th>MessageSum</th>\n",
              "      <th>ModuleSum</th>\n",
              "      <th>RequestSum</th>\n",
              "    </tr>\n",
              "  </thead>\n",
              "  <tbody>\n",
              "    <tr>\n",
              "      <th>0</th>\n",
              "      <td>2021-07-05</td>\n",
              "      <td>14:01:15.456</td>\n",
              "      <td>918</td>\n",
              "      <td>ERROR</td>\n",
              "      <td>cinder</td>\n",
              "      <td>4.136373</td>\n",
              "      <td>1.412674</td>\n",
              "      <td>0.0</td>\n",
              "    </tr>\n",
              "    <tr>\n",
              "      <th>1</th>\n",
              "      <td>2021-07-05</td>\n",
              "      <td>14:01:25.461</td>\n",
              "      <td>918</td>\n",
              "      <td>ERROR</td>\n",
              "      <td>cinder</td>\n",
              "      <td>4.136373</td>\n",
              "      <td>1.412674</td>\n",
              "      <td>0.0</td>\n",
              "    </tr>\n",
              "    <tr>\n",
              "      <th>2</th>\n",
              "      <td>2021-07-05</td>\n",
              "      <td>14:01:35.468</td>\n",
              "      <td>918</td>\n",
              "      <td>ERROR</td>\n",
              "      <td>cinder</td>\n",
              "      <td>4.136373</td>\n",
              "      <td>1.412674</td>\n",
              "      <td>0.0</td>\n",
              "    </tr>\n",
              "    <tr>\n",
              "      <th>3</th>\n",
              "      <td>2021-07-05</td>\n",
              "      <td>14:01:45.471</td>\n",
              "      <td>918</td>\n",
              "      <td>ERROR</td>\n",
              "      <td>cinder</td>\n",
              "      <td>4.136373</td>\n",
              "      <td>1.412674</td>\n",
              "      <td>0.0</td>\n",
              "    </tr>\n",
              "    <tr>\n",
              "      <th>4</th>\n",
              "      <td>2021-07-05</td>\n",
              "      <td>14:01:55.477</td>\n",
              "      <td>918</td>\n",
              "      <td>ERROR</td>\n",
              "      <td>cinder</td>\n",
              "      <td>4.136373</td>\n",
              "      <td>1.412674</td>\n",
              "      <td>0.0</td>\n",
              "    </tr>\n",
              "  </tbody>\n",
              "</table>\n",
              "</div>"
            ],
            "text/plain": [
              "         Date          Time  PID  ... MessageSum ModuleSum  RequestSum\n",
              "0  2021-07-05  14:01:15.456  918  ...   4.136373  1.412674         0.0\n",
              "1  2021-07-05  14:01:25.461  918  ...   4.136373  1.412674         0.0\n",
              "2  2021-07-05  14:01:35.468  918  ...   4.136373  1.412674         0.0\n",
              "3  2021-07-05  14:01:45.471  918  ...   4.136373  1.412674         0.0\n",
              "4  2021-07-05  14:01:55.477  918  ...   4.136373  1.412674         0.0\n",
              "\n",
              "[5 rows x 8 columns]"
            ]
          },
          "metadata": {},
          "execution_count": 55
        }
      ]
    },
    {
      "cell_type": "code",
      "metadata": {
        "id": "cV7xRCrPKw0l"
      },
      "source": [
        "def nameToOut(_name):\n",
        "    if _name == 'INFO' or _name == 'DEBUG':\n",
        "        return 0\n",
        "    else:\n",
        "        return 1"
      ],
      "execution_count": null,
      "outputs": []
    },
    {
      "cell_type": "code",
      "metadata": {
        "colab": {
          "base_uri": "https://localhost:8080/",
          "height": 203
        },
        "id": "ijZgImzhKxql",
        "outputId": "6ce85365-e40e-40fd-aa74-24546353f4f7"
      },
      "source": [
        "dataset['Output'] = [nameToOut(item) for item in  dataset['Level']]\n",
        "dataset.head()\n"
      ],
      "execution_count": null,
      "outputs": [
        {
          "output_type": "execute_result",
          "data": {
            "text/html": [
              "<div>\n",
              "<style scoped>\n",
              "    .dataframe tbody tr th:only-of-type {\n",
              "        vertical-align: middle;\n",
              "    }\n",
              "\n",
              "    .dataframe tbody tr th {\n",
              "        vertical-align: top;\n",
              "    }\n",
              "\n",
              "    .dataframe thead th {\n",
              "        text-align: right;\n",
              "    }\n",
              "</style>\n",
              "<table border=\"1\" class=\"dataframe\">\n",
              "  <thead>\n",
              "    <tr style=\"text-align: right;\">\n",
              "      <th></th>\n",
              "      <th>Date</th>\n",
              "      <th>Time</th>\n",
              "      <th>PID</th>\n",
              "      <th>Level</th>\n",
              "      <th>Label</th>\n",
              "      <th>MessageSum</th>\n",
              "      <th>ModuleSum</th>\n",
              "      <th>RequestSum</th>\n",
              "      <th>Output</th>\n",
              "    </tr>\n",
              "  </thead>\n",
              "  <tbody>\n",
              "    <tr>\n",
              "      <th>0</th>\n",
              "      <td>2021-07-05</td>\n",
              "      <td>14:01:15.456</td>\n",
              "      <td>918</td>\n",
              "      <td>ERROR</td>\n",
              "      <td>cinder</td>\n",
              "      <td>4.136373</td>\n",
              "      <td>1.412674</td>\n",
              "      <td>0.0</td>\n",
              "      <td>1</td>\n",
              "    </tr>\n",
              "    <tr>\n",
              "      <th>1</th>\n",
              "      <td>2021-07-05</td>\n",
              "      <td>14:01:25.461</td>\n",
              "      <td>918</td>\n",
              "      <td>ERROR</td>\n",
              "      <td>cinder</td>\n",
              "      <td>4.136373</td>\n",
              "      <td>1.412674</td>\n",
              "      <td>0.0</td>\n",
              "      <td>1</td>\n",
              "    </tr>\n",
              "    <tr>\n",
              "      <th>2</th>\n",
              "      <td>2021-07-05</td>\n",
              "      <td>14:01:35.468</td>\n",
              "      <td>918</td>\n",
              "      <td>ERROR</td>\n",
              "      <td>cinder</td>\n",
              "      <td>4.136373</td>\n",
              "      <td>1.412674</td>\n",
              "      <td>0.0</td>\n",
              "      <td>1</td>\n",
              "    </tr>\n",
              "    <tr>\n",
              "      <th>3</th>\n",
              "      <td>2021-07-05</td>\n",
              "      <td>14:01:45.471</td>\n",
              "      <td>918</td>\n",
              "      <td>ERROR</td>\n",
              "      <td>cinder</td>\n",
              "      <td>4.136373</td>\n",
              "      <td>1.412674</td>\n",
              "      <td>0.0</td>\n",
              "      <td>1</td>\n",
              "    </tr>\n",
              "    <tr>\n",
              "      <th>4</th>\n",
              "      <td>2021-07-05</td>\n",
              "      <td>14:01:55.477</td>\n",
              "      <td>918</td>\n",
              "      <td>ERROR</td>\n",
              "      <td>cinder</td>\n",
              "      <td>4.136373</td>\n",
              "      <td>1.412674</td>\n",
              "      <td>0.0</td>\n",
              "      <td>1</td>\n",
              "    </tr>\n",
              "  </tbody>\n",
              "</table>\n",
              "</div>"
            ],
            "text/plain": [
              "         Date          Time  PID  ... ModuleSum RequestSum  Output\n",
              "0  2021-07-05  14:01:15.456  918  ...  1.412674        0.0       1\n",
              "1  2021-07-05  14:01:25.461  918  ...  1.412674        0.0       1\n",
              "2  2021-07-05  14:01:35.468  918  ...  1.412674        0.0       1\n",
              "3  2021-07-05  14:01:45.471  918  ...  1.412674        0.0       1\n",
              "4  2021-07-05  14:01:55.477  918  ...  1.412674        0.0       1\n",
              "\n",
              "[5 rows x 9 columns]"
            ]
          },
          "metadata": {},
          "execution_count": 57
        }
      ]
    },
    {
      "cell_type": "code",
      "metadata": {
        "colab": {
          "base_uri": "https://localhost:8080/"
        },
        "id": "OG2_6UyPLHGm",
        "outputId": "fe38377b-e249-4123-c11d-e6a19f04a55a"
      },
      "source": [
        "print(dataset.loc[dataset['Output']==1])"
      ],
      "execution_count": null,
      "outputs": [
        {
          "output_type": "stream",
          "name": "stdout",
          "text": [
            "             Date          Time   PID  ... ModuleSum RequestSum  Output\n",
            "0      2021-07-05  14:01:15.456   918  ...  1.412674   0.000000       1\n",
            "1      2021-07-05  14:01:25.461   918  ...  1.412674   0.000000       1\n",
            "2      2021-07-05  14:01:35.468   918  ...  1.412674   0.000000       1\n",
            "3      2021-07-05  14:01:45.471   918  ...  1.412674   0.000000       1\n",
            "4      2021-07-05  14:01:55.477   918  ...  1.412674   0.000000       1\n",
            "...           ...           ...   ...  ...       ...        ...     ...\n",
            "34985  2021-07-16  17:39:25.665  2560  ...  1.711737   2.236068       1\n",
            "35125  2021-07-16  17:43:28.703  2560  ...  1.711737   2.236068       1\n",
            "35128  2021-07-16  17:43:28.713  2560  ...  1.944311   2.236068       1\n",
            "35130  2021-07-16  17:43:28.714  2560  ...  1.725066   2.236068       1\n",
            "35994  2021-07-16  18:07:53.678  2560  ...  1.711737   2.236068       1\n",
            "\n",
            "[17826 rows x 9 columns]\n"
          ]
        }
      ]
    },
    {
      "cell_type": "code",
      "metadata": {
        "id": "_Hp1M1_5LKLV"
      },
      "source": [
        "import calendar\n",
        "import time\n",
        "def timeToLong(_time):\n",
        "    return calendar.timegm(time.strptime(_time, '%Y-%m-%dT%H:%M:%S.%fZ'))"
      ],
      "execution_count": null,
      "outputs": []
    },
    {
      "cell_type": "code",
      "metadata": {
        "colab": {
          "base_uri": "https://localhost:8080/"
        },
        "id": "g02pwo-sLLcu",
        "outputId": "fe3a145f-e665-403c-db50-86ae935126ee"
      },
      "source": [
        "dataset1 = [item2+'Z' for item2 in dataset['Time']]\n",
        "dataset2 = [item+'T' for item in dataset['Date']]\n",
        "dataset['Timestamp'] = pd.DataFrame(dataset2) + pd.DataFrame(dataset1)\n",
        "dataset['Timestamp'] = [timeToLong(item) for item in dataset['Timestamp'] ]\n",
        "print(dataset)"
      ],
      "execution_count": null,
      "outputs": [
        {
          "output_type": "stream",
          "name": "stdout",
          "text": [
            "             Date          Time   PID  ... RequestSum Output   Timestamp\n",
            "0      2021-07-05  14:01:15.456   918  ...   0.000000      1  1625493675\n",
            "1      2021-07-05  14:01:25.461   918  ...   0.000000      1  1625493685\n",
            "2      2021-07-05  14:01:35.468   918  ...   0.000000      1  1625493695\n",
            "3      2021-07-05  14:01:45.471   918  ...   0.000000      1  1625493705\n",
            "4      2021-07-05  14:01:55.477   918  ...   0.000000      1  1625493715\n",
            "...           ...           ...   ...  ...        ...    ...         ...\n",
            "36024  2021-07-16  18:08:55.349  2560  ...   2.236068      0  1626458935\n",
            "36025  2021-07-16  18:08:55.350  2560  ...   2.236068      0  1626458935\n",
            "36026  2021-07-16  18:08:55.419  2560  ...   2.236068      0  1626458935\n",
            "36027  2021-07-16  18:08:55.527  2560  ...   2.236068      0  1626458935\n",
            "36028  2021-07-16  18:08:55.528  2560  ...   2.236068      0  1626458935\n",
            "\n",
            "[36029 rows x 10 columns]\n"
          ]
        }
      ]
    },
    {
      "cell_type": "code",
      "metadata": {
        "colab": {
          "base_uri": "https://localhost:8080/",
          "height": 417
        },
        "id": "JQRtJavJLWS5",
        "outputId": "f7d8d61f-e1fe-4532-931e-bca686ca9248"
      },
      "source": [
        "dataset.drop(['Date','Time','Level'], axis=1)"
      ],
      "execution_count": null,
      "outputs": [
        {
          "output_type": "execute_result",
          "data": {
            "text/html": [
              "<div>\n",
              "<style scoped>\n",
              "    .dataframe tbody tr th:only-of-type {\n",
              "        vertical-align: middle;\n",
              "    }\n",
              "\n",
              "    .dataframe tbody tr th {\n",
              "        vertical-align: top;\n",
              "    }\n",
              "\n",
              "    .dataframe thead th {\n",
              "        text-align: right;\n",
              "    }\n",
              "</style>\n",
              "<table border=\"1\" class=\"dataframe\">\n",
              "  <thead>\n",
              "    <tr style=\"text-align: right;\">\n",
              "      <th></th>\n",
              "      <th>PID</th>\n",
              "      <th>Label</th>\n",
              "      <th>MessageSum</th>\n",
              "      <th>ModuleSum</th>\n",
              "      <th>RequestSum</th>\n",
              "      <th>Output</th>\n",
              "      <th>Timestamp</th>\n",
              "    </tr>\n",
              "  </thead>\n",
              "  <tbody>\n",
              "    <tr>\n",
              "      <th>0</th>\n",
              "      <td>918</td>\n",
              "      <td>cinder</td>\n",
              "      <td>4.136373</td>\n",
              "      <td>1.412674</td>\n",
              "      <td>0.000000</td>\n",
              "      <td>1</td>\n",
              "      <td>1625493675</td>\n",
              "    </tr>\n",
              "    <tr>\n",
              "      <th>1</th>\n",
              "      <td>918</td>\n",
              "      <td>cinder</td>\n",
              "      <td>4.136373</td>\n",
              "      <td>1.412674</td>\n",
              "      <td>0.000000</td>\n",
              "      <td>1</td>\n",
              "      <td>1625493685</td>\n",
              "    </tr>\n",
              "    <tr>\n",
              "      <th>2</th>\n",
              "      <td>918</td>\n",
              "      <td>cinder</td>\n",
              "      <td>4.136373</td>\n",
              "      <td>1.412674</td>\n",
              "      <td>0.000000</td>\n",
              "      <td>1</td>\n",
              "      <td>1625493695</td>\n",
              "    </tr>\n",
              "    <tr>\n",
              "      <th>3</th>\n",
              "      <td>918</td>\n",
              "      <td>cinder</td>\n",
              "      <td>4.136373</td>\n",
              "      <td>1.412674</td>\n",
              "      <td>0.000000</td>\n",
              "      <td>1</td>\n",
              "      <td>1625493705</td>\n",
              "    </tr>\n",
              "    <tr>\n",
              "      <th>4</th>\n",
              "      <td>918</td>\n",
              "      <td>cinder</td>\n",
              "      <td>4.136373</td>\n",
              "      <td>1.412674</td>\n",
              "      <td>0.000000</td>\n",
              "      <td>1</td>\n",
              "      <td>1625493715</td>\n",
              "    </tr>\n",
              "    <tr>\n",
              "      <th>...</th>\n",
              "      <td>...</td>\n",
              "      <td>...</td>\n",
              "      <td>...</td>\n",
              "      <td>...</td>\n",
              "      <td>...</td>\n",
              "      <td>...</td>\n",
              "      <td>...</td>\n",
              "    </tr>\n",
              "    <tr>\n",
              "      <th>36024</th>\n",
              "      <td>2560</td>\n",
              "      <td>nova</td>\n",
              "      <td>5.885701</td>\n",
              "      <td>1.406928</td>\n",
              "      <td>2.236068</td>\n",
              "      <td>0</td>\n",
              "      <td>1626458935</td>\n",
              "    </tr>\n",
              "    <tr>\n",
              "      <th>36025</th>\n",
              "      <td>2560</td>\n",
              "      <td>nova</td>\n",
              "      <td>5.829600</td>\n",
              "      <td>1.406928</td>\n",
              "      <td>2.236068</td>\n",
              "      <td>0</td>\n",
              "      <td>1626458935</td>\n",
              "    </tr>\n",
              "    <tr>\n",
              "      <th>36026</th>\n",
              "      <td>2560</td>\n",
              "      <td>nova</td>\n",
              "      <td>5.867103</td>\n",
              "      <td>1.406928</td>\n",
              "      <td>2.236068</td>\n",
              "      <td>0</td>\n",
              "      <td>1626458935</td>\n",
              "    </tr>\n",
              "    <tr>\n",
              "      <th>36027</th>\n",
              "      <td>2560</td>\n",
              "      <td>nova</td>\n",
              "      <td>4.873734</td>\n",
              "      <td>1.711737</td>\n",
              "      <td>2.236068</td>\n",
              "      <td>0</td>\n",
              "      <td>1626458935</td>\n",
              "    </tr>\n",
              "    <tr>\n",
              "      <th>36028</th>\n",
              "      <td>2560</td>\n",
              "      <td>nova</td>\n",
              "      <td>4.285017</td>\n",
              "      <td>1.407917</td>\n",
              "      <td>2.236068</td>\n",
              "      <td>0</td>\n",
              "      <td>1626458935</td>\n",
              "    </tr>\n",
              "  </tbody>\n",
              "</table>\n",
              "<p>36029 rows × 7 columns</p>\n",
              "</div>"
            ],
            "text/plain": [
              "        PID   Label  MessageSum  ModuleSum  RequestSum  Output   Timestamp\n",
              "0       918  cinder    4.136373   1.412674    0.000000       1  1625493675\n",
              "1       918  cinder    4.136373   1.412674    0.000000       1  1625493685\n",
              "2       918  cinder    4.136373   1.412674    0.000000       1  1625493695\n",
              "3       918  cinder    4.136373   1.412674    0.000000       1  1625493705\n",
              "4       918  cinder    4.136373   1.412674    0.000000       1  1625493715\n",
              "...     ...     ...         ...        ...         ...     ...         ...\n",
              "36024  2560    nova    5.885701   1.406928    2.236068       0  1626458935\n",
              "36025  2560    nova    5.829600   1.406928    2.236068       0  1626458935\n",
              "36026  2560    nova    5.867103   1.406928    2.236068       0  1626458935\n",
              "36027  2560    nova    4.873734   1.711737    2.236068       0  1626458935\n",
              "36028  2560    nova    4.285017   1.407917    2.236068       0  1626458935\n",
              "\n",
              "[36029 rows x 7 columns]"
            ]
          },
          "metadata": {},
          "execution_count": 84
        }
      ]
    },
    {
      "cell_type": "code",
      "metadata": {
        "id": "tDCPGQTFLhsC"
      },
      "source": [
        "Y = dataset['Output']\n",
        "X = dataset.drop('Output', axis=1)\n",
        "X = X.drop(['Date','Time','Level'], axis=1)"
      ],
      "execution_count": null,
      "outputs": []
    },
    {
      "cell_type": "code",
      "metadata": {
        "id": "vDgwesHYMNUC"
      },
      "source": [
        "from sklearn import preprocessing\n",
        "names=[\"PID\",\"MessageSum\",\"RequestSum\", \"ModuleSum\",\"Timestamp\"]\n",
        "\n",
        "min_max_scaler = preprocessing.MinMaxScaler()\n",
        "X_scaled = min_max_scaler.fit_transform(X)\n",
        "X = pd.DataFrame(X_scaled,columns = names)"
      ],
      "execution_count": null,
      "outputs": []
    },
    {
      "cell_type": "code",
      "metadata": {
        "colab": {
          "base_uri": "https://localhost:8080/",
          "height": 602
        },
        "id": "1RqV9IgDMU8q",
        "outputId": "59df44cd-5410-4e3a-9007-e402af3e5be0"
      },
      "source": [
        "Y = pd.DataFrame(Y)\n",
        "X = X.join(Y['Output'])\n",
        "Errors = X.loc[X['Output']==1]\n",
        "Errors.head()\n",
        "Errors.loc[Errors['ModuleSum']!=0]\n"
      ],
      "execution_count": null,
      "outputs": [
        {
          "output_type": "execute_result",
          "data": {
            "text/html": [
              "<div>\n",
              "<style scoped>\n",
              "    .dataframe tbody tr th:only-of-type {\n",
              "        vertical-align: middle;\n",
              "    }\n",
              "\n",
              "    .dataframe tbody tr th {\n",
              "        vertical-align: top;\n",
              "    }\n",
              "\n",
              "    .dataframe thead th {\n",
              "        text-align: right;\n",
              "    }\n",
              "</style>\n",
              "<table border=\"1\" class=\"dataframe\">\n",
              "  <thead>\n",
              "    <tr style=\"text-align: right;\">\n",
              "      <th></th>\n",
              "      <th>PID</th>\n",
              "      <th>Label</th>\n",
              "      <th>MessageSum</th>\n",
              "      <th>ModuleSum</th>\n",
              "      <th>RequestSum</th>\n",
              "      <th>Timestamp</th>\n",
              "      <th>Output</th>\n",
              "    </tr>\n",
              "  </thead>\n",
              "  <tbody>\n",
              "    <tr>\n",
              "      <th>0</th>\n",
              "      <td>918</td>\n",
              "      <td>cinder</td>\n",
              "      <td>4.136373</td>\n",
              "      <td>1.412674</td>\n",
              "      <td>0.0</td>\n",
              "      <td>1625493675</td>\n",
              "      <td>1</td>\n",
              "    </tr>\n",
              "    <tr>\n",
              "      <th>1</th>\n",
              "      <td>918</td>\n",
              "      <td>cinder</td>\n",
              "      <td>4.136373</td>\n",
              "      <td>1.412674</td>\n",
              "      <td>0.0</td>\n",
              "      <td>1625493685</td>\n",
              "      <td>1</td>\n",
              "    </tr>\n",
              "    <tr>\n",
              "      <th>2</th>\n",
              "      <td>918</td>\n",
              "      <td>cinder</td>\n",
              "      <td>4.136373</td>\n",
              "      <td>1.412674</td>\n",
              "      <td>0.0</td>\n",
              "      <td>1625493695</td>\n",
              "      <td>1</td>\n",
              "    </tr>\n",
              "    <tr>\n",
              "      <th>3</th>\n",
              "      <td>918</td>\n",
              "      <td>cinder</td>\n",
              "      <td>4.136373</td>\n",
              "      <td>1.412674</td>\n",
              "      <td>0.0</td>\n",
              "      <td>1625493705</td>\n",
              "      <td>1</td>\n",
              "    </tr>\n",
              "    <tr>\n",
              "      <th>4</th>\n",
              "      <td>918</td>\n",
              "      <td>cinder</td>\n",
              "      <td>4.136373</td>\n",
              "      <td>1.412674</td>\n",
              "      <td>0.0</td>\n",
              "      <td>1625493715</td>\n",
              "      <td>1</td>\n",
              "    </tr>\n",
              "  </tbody>\n",
              "</table>\n",
              "</div>"
            ],
            "text/plain": [
              "   PID   Label  MessageSum  ModuleSum  RequestSum   Timestamp  Output\n",
              "0  918  cinder    4.136373   1.412674         0.0  1625493675       1\n",
              "1  918  cinder    4.136373   1.412674         0.0  1625493685       1\n",
              "2  918  cinder    4.136373   1.412674         0.0  1625493695       1\n",
              "3  918  cinder    4.136373   1.412674         0.0  1625493705       1\n",
              "4  918  cinder    4.136373   1.412674         0.0  1625493715       1"
            ]
          },
          "metadata": {},
          "execution_count": 62
        },
        {
          "output_type": "execute_result",
          "data": {
            "text/html": [
              "<div>\n",
              "<style scoped>\n",
              "    .dataframe tbody tr th:only-of-type {\n",
              "        vertical-align: middle;\n",
              "    }\n",
              "\n",
              "    .dataframe tbody tr th {\n",
              "        vertical-align: top;\n",
              "    }\n",
              "\n",
              "    .dataframe thead th {\n",
              "        text-align: right;\n",
              "    }\n",
              "</style>\n",
              "<table border=\"1\" class=\"dataframe\">\n",
              "  <thead>\n",
              "    <tr style=\"text-align: right;\">\n",
              "      <th></th>\n",
              "      <th>PID</th>\n",
              "      <th>Label</th>\n",
              "      <th>MessageSum</th>\n",
              "      <th>ModuleSum</th>\n",
              "      <th>RequestSum</th>\n",
              "      <th>Timestamp</th>\n",
              "      <th>Output</th>\n",
              "    </tr>\n",
              "  </thead>\n",
              "  <tbody>\n",
              "    <tr>\n",
              "      <th>0</th>\n",
              "      <td>918</td>\n",
              "      <td>cinder</td>\n",
              "      <td>4.136373</td>\n",
              "      <td>1.412674</td>\n",
              "      <td>0.000000</td>\n",
              "      <td>1625493675</td>\n",
              "      <td>1</td>\n",
              "    </tr>\n",
              "    <tr>\n",
              "      <th>1</th>\n",
              "      <td>918</td>\n",
              "      <td>cinder</td>\n",
              "      <td>4.136373</td>\n",
              "      <td>1.412674</td>\n",
              "      <td>0.000000</td>\n",
              "      <td>1625493685</td>\n",
              "      <td>1</td>\n",
              "    </tr>\n",
              "    <tr>\n",
              "      <th>2</th>\n",
              "      <td>918</td>\n",
              "      <td>cinder</td>\n",
              "      <td>4.136373</td>\n",
              "      <td>1.412674</td>\n",
              "      <td>0.000000</td>\n",
              "      <td>1625493695</td>\n",
              "      <td>1</td>\n",
              "    </tr>\n",
              "    <tr>\n",
              "      <th>3</th>\n",
              "      <td>918</td>\n",
              "      <td>cinder</td>\n",
              "      <td>4.136373</td>\n",
              "      <td>1.412674</td>\n",
              "      <td>0.000000</td>\n",
              "      <td>1625493705</td>\n",
              "      <td>1</td>\n",
              "    </tr>\n",
              "    <tr>\n",
              "      <th>4</th>\n",
              "      <td>918</td>\n",
              "      <td>cinder</td>\n",
              "      <td>4.136373</td>\n",
              "      <td>1.412674</td>\n",
              "      <td>0.000000</td>\n",
              "      <td>1625493715</td>\n",
              "      <td>1</td>\n",
              "    </tr>\n",
              "    <tr>\n",
              "      <th>...</th>\n",
              "      <td>...</td>\n",
              "      <td>...</td>\n",
              "      <td>...</td>\n",
              "      <td>...</td>\n",
              "      <td>...</td>\n",
              "      <td>...</td>\n",
              "      <td>...</td>\n",
              "    </tr>\n",
              "    <tr>\n",
              "      <th>34985</th>\n",
              "      <td>2560</td>\n",
              "      <td>nova</td>\n",
              "      <td>5.930520</td>\n",
              "      <td>1.711737</td>\n",
              "      <td>2.236068</td>\n",
              "      <td>1626457165</td>\n",
              "      <td>1</td>\n",
              "    </tr>\n",
              "    <tr>\n",
              "      <th>35125</th>\n",
              "      <td>2560</td>\n",
              "      <td>nova</td>\n",
              "      <td>5.930520</td>\n",
              "      <td>1.711737</td>\n",
              "      <td>2.236068</td>\n",
              "      <td>1626457408</td>\n",
              "      <td>1</td>\n",
              "    </tr>\n",
              "    <tr>\n",
              "      <th>35128</th>\n",
              "      <td>2560</td>\n",
              "      <td>nova</td>\n",
              "      <td>5.633790</td>\n",
              "      <td>1.944311</td>\n",
              "      <td>2.236068</td>\n",
              "      <td>1626457408</td>\n",
              "      <td>1</td>\n",
              "    </tr>\n",
              "    <tr>\n",
              "      <th>35130</th>\n",
              "      <td>2560</td>\n",
              "      <td>nova</td>\n",
              "      <td>4.440984</td>\n",
              "      <td>1.725066</td>\n",
              "      <td>2.236068</td>\n",
              "      <td>1626457408</td>\n",
              "      <td>1</td>\n",
              "    </tr>\n",
              "    <tr>\n",
              "      <th>35994</th>\n",
              "      <td>2560</td>\n",
              "      <td>nova</td>\n",
              "      <td>5.930520</td>\n",
              "      <td>1.711737</td>\n",
              "      <td>2.236068</td>\n",
              "      <td>1626458873</td>\n",
              "      <td>1</td>\n",
              "    </tr>\n",
              "  </tbody>\n",
              "</table>\n",
              "<p>17826 rows × 7 columns</p>\n",
              "</div>"
            ],
            "text/plain": [
              "        PID   Label  MessageSum  ModuleSum  RequestSum   Timestamp  Output\n",
              "0       918  cinder    4.136373   1.412674    0.000000  1625493675       1\n",
              "1       918  cinder    4.136373   1.412674    0.000000  1625493685       1\n",
              "2       918  cinder    4.136373   1.412674    0.000000  1625493695       1\n",
              "3       918  cinder    4.136373   1.412674    0.000000  1625493705       1\n",
              "4       918  cinder    4.136373   1.412674    0.000000  1625493715       1\n",
              "...     ...     ...         ...        ...         ...         ...     ...\n",
              "34985  2560    nova    5.930520   1.711737    2.236068  1626457165       1\n",
              "35125  2560    nova    5.930520   1.711737    2.236068  1626457408       1\n",
              "35128  2560    nova    5.633790   1.944311    2.236068  1626457408       1\n",
              "35130  2560    nova    4.440984   1.725066    2.236068  1626457408       1\n",
              "35994  2560    nova    5.930520   1.711737    2.236068  1626458873       1\n",
              "\n",
              "[17826 rows x 7 columns]"
            ]
          },
          "metadata": {},
          "execution_count": 62
        }
      ]
    },
    {
      "cell_type": "code",
      "metadata": {
        "id": "Iuz3Fb8LMmny"
      },
      "source": [
        "SEED = 1234\n",
        "Errors = Errors.sample(800000,random_state=SEED,replace=True)\n",
        "Normal = X.loc[X['Output']==0]\n",
        "data = [Normal, Errors]\n",
        "data = pd.concat(data)"
      ],
      "execution_count": null,
      "outputs": []
    },
    {
      "cell_type": "code",
      "metadata": {
        "id": "vJUs6UdkM4gC"
      },
      "source": [
        "#y = data['Output']\n",
        "from sklearn.model_selection import train_test_split\n",
        "X_train, X_test, y_train, y_test = train_test_split(X, Y, test_size=0.1, random_state=1, stratify=Y)"
      ],
      "execution_count": null,
      "outputs": []
    },
    {
      "cell_type": "code",
      "metadata": {
        "id": "y_bqCdQFNAu2"
      },
      "source": [
        "#X_train, X_valid, y_train, y_valid = train_test_split(X_train, y_train, test_size=0.2, random_state=1, stratify=y_train)"
      ],
      "execution_count": null,
      "outputs": []
    },
    {
      "cell_type": "code",
      "metadata": {
        "id": "S04CxzElYY3h"
      },
      "source": [
        "X_train = X_train.sort_values(\"Timestamp\", axis=0, ascending=True, inplace=False, kind='quicksort', na_position='last')\n",
        "#X_valid = X_valid.sort_values(\"Timestamp\", axis=0, ascending=True, inplace=False, kind='quicksort', na_position='last')\n",
        "X_test = X_test.sort_values(\"Timestamp\", axis=0, ascending=True, inplace=False, kind='quicksort', na_position='last')"
      ],
      "execution_count": null,
      "outputs": []
    },
    {
      "cell_type": "code",
      "metadata": {
        "id": "kvfZxWorYuZt"
      },
      "source": [
        "y_train = X_train['Output']\n",
        "#y_valid = X_valid['Output']\n",
        "y_test = X_test['Output']"
      ],
      "execution_count": null,
      "outputs": []
    },
    {
      "cell_type": "code",
      "metadata": {
        "colab": {
          "base_uri": "https://localhost:8080/"
        },
        "id": "lNJXoFSpbLSp",
        "outputId": "9f1d0c9e-4acd-4c0c-e549-ba3eab5334c6"
      },
      "source": [
        "print(X_train)"
      ],
      "execution_count": null,
      "outputs": [
        {
          "output_type": "stream",
          "name": "stdout",
          "text": [
            "         PID Label  MessageSum  ModuleSum  RequestSum   Timestamp  Output\n",
            "54723   2601  nova    3.490832   1.414213    2.236068  1617801558       0\n",
            "54724   2601  nova    3.490842   1.414213    2.236068  1617801559       0\n",
            "54725   2601  nova    3.559195   1.414213    2.236068  1617801560       0\n",
            "54726   2601  nova    3.167928   1.685945    2.236068  1617801560       0\n",
            "54731   2601  nova    5.798735   1.408275    2.236068  1617801567       0\n",
            "...      ...   ...         ...        ...         ...         ...     ...\n",
            "953027  2592  nova    3.913929   1.685945    2.236055  1623997509       0\n",
            "953028  2592  nova    3.559220   1.414213    2.236055  1623997509       0\n",
            "953032  2592  nova    5.154845   1.408275    2.236055  1623997509       0\n",
            "953031  2592  nova    5.251762   1.408275    2.236055  1623997509       0\n",
            "953029  2592  nova    3.668828   1.705461    2.236055  1623997509       0\n",
            "\n",
            "[857729 rows x 7 columns]\n"
          ]
        }
      ]
    },
    {
      "cell_type": "code",
      "metadata": {
        "id": "_wBlAO_EWrbN"
      },
      "source": [
        "#X_valid = X_valid.drop(['Output', 'Timestamp'],axis=1)\n",
        "X_train = X_train.drop(['Output', 'Timestamp','PID','Label'],axis=1)\n",
        "X_test = X_test.drop(['Output', 'Timestamp','PID','Label'],axis=1)"
      ],
      "execution_count": null,
      "outputs": []
    },
    {
      "cell_type": "code",
      "metadata": {
        "id": "egsqPDpicfOp"
      },
      "source": [
        "y_train = y_train.to_numpy()"
      ],
      "execution_count": null,
      "outputs": []
    },
    {
      "cell_type": "code",
      "metadata": {
        "id": "3XqsWWEpcvBa"
      },
      "source": [
        "example_id = np.array(['%d' % i for i in range(len(y_train))])"
      ],
      "execution_count": null,
      "outputs": []
    },
    {
      "cell_type": "code",
      "metadata": {
        "id": "bKSP4kQmpBY_"
      },
      "source": [
        "X_train = X_train.to_numpy() #.reshape((X_train.shape[0], 1, X_train.shape[1]))\n",
        "#X_valid = X_valid.to_numpy() #.reshape((X_valid.shape[0], 1, X_valid.shape[1]))\n"
      ],
      "execution_count": null,
      "outputs": []
    },
    {
      "cell_type": "code",
      "metadata": {
        "colab": {
          "base_uri": "https://localhost:8080/"
        },
        "id": "6UFFk9XrHZBs",
        "outputId": "ddf262e3-ab9d-4877-b207-4d6d74e996cc"
      },
      "source": [
        "X_train"
      ],
      "execution_count": null,
      "outputs": [
        {
          "output_type": "execute_result",
          "data": {
            "text/plain": [
              "array([[3.49083181, 1.41421333, 2.23606798],\n",
              "       [3.49084249, 1.41421333, 2.23606798],\n",
              "       [3.55919452, 1.41421333, 2.23606798],\n",
              "       ...,\n",
              "       [5.15484458, 1.40827478, 2.23605537],\n",
              "       [5.25176194, 1.40827478, 2.23605537],\n",
              "       [3.66882804, 1.70546127, 2.23605537]])"
            ]
          },
          "metadata": {},
          "execution_count": 44
        }
      ]
    },
    {
      "cell_type": "code",
      "metadata": {
        "id": "W79LbNmRrIu4"
      },
      "source": [
        "#X_train = X_train.reshape(X_train.shape[0],1,X_train.shape[1])\n"
      ],
      "execution_count": null,
      "outputs": []
    },
    {
      "cell_type": "code",
      "metadata": {
        "id": "aiAqLVGBsDqq"
      },
      "source": [
        "#X_valid = X_valid.reshape(X_valid.shape[0],1,X_valid.shape[1])"
      ],
      "execution_count": null,
      "outputs": []
    },
    {
      "cell_type": "code",
      "metadata": {
        "colab": {
          "base_uri": "https://localhost:8080/"
        },
        "id": "VHoqZ7m3cStl",
        "outputId": "7cc266ac-e2ac-47e5-940a-251bc9576eea"
      },
      "source": [
        "import tensorflow as tf\n",
        "\n",
        "x_column_name = 'x'\n",
        "example_id_column_name = 'example_id'\n",
        "\n",
        "train_input_fn = tf.compat.v1.estimator.inputs.numpy_input_fn(\n",
        "    x={x_column_name: X_train, example_id_column_name: example_id},\n",
        "    y=y_train,\n",
        "    num_epochs=None,\n",
        "    shuffle=True)\n",
        "\n",
        "svm = tf.contrib.learn.SVM(\n",
        "    example_id_column=example_id_column_name,\n",
        "    feature_columns=(tf.contrib.layers.real_valued_column(\n",
        "        column_name=x_column_name, dimension=3),),\n",
        "    l2_regularization=0.1,\n",
        "    model_dir='/content/drive/MyDrive/Akim_thesis/model_svm_LEVEL_15')\n",
        "\n",
        "#svm.fit(input_fn=train_input_fn, steps=2100)"
      ],
      "execution_count": null,
      "outputs": [
        {
          "output_type": "stream",
          "name": "stdout",
          "text": [
            "INFO:tensorflow:Using default config.\n",
            "INFO:tensorflow:Using config: {'_task_type': None, '_task_id': 0, '_cluster_spec': <tensorflow.python.training.server_lib.ClusterSpec object at 0x7fba2f896990>, '_master': '', '_num_ps_replicas': 0, '_num_worker_replicas': 0, '_environment': 'local', '_is_chief': True, '_evaluation_master': '', '_train_distribute': None, '_eval_distribute': None, '_experimental_max_worker_delay_secs': None, '_device_fn': None, '_tf_config': gpu_options {\n",
            "  per_process_gpu_memory_fraction: 1.0\n",
            "}\n",
            ", '_tf_random_seed': None, '_save_summary_steps': 100, '_save_checkpoints_secs': 600, '_log_step_count_steps': 100, '_protocol': None, '_session_config': None, '_save_checkpoints_steps': None, '_keep_checkpoint_max': 5, '_keep_checkpoint_every_n_hours': 10000, '_model_dir': '/content/drive/MyDrive/Akim_thesis/model_svm_LEVEL_15', '_session_creation_timeout_secs': 7200}\n"
          ]
        }
      ]
    },
    {
      "cell_type": "code",
      "metadata": {
        "id": "qkBmKO-ohsWv",
        "colab": {
          "base_uri": "https://localhost:8080/",
          "height": 178
        },
        "outputId": "f388ac7f-75ce-4c97-99a4-b8731224e955"
      },
      "source": [
        "X_test = X_test.to_numpy()\n",
        "y_test = y_test.to_numpy()"
      ],
      "execution_count": null,
      "outputs": [
        {
          "output_type": "error",
          "ename": "AttributeError",
          "evalue": "ignored",
          "traceback": [
            "\u001b[0;31m---------------------------------------------------------------------------\u001b[0m",
            "\u001b[0;31mAttributeError\u001b[0m                            Traceback (most recent call last)",
            "\u001b[0;32m<ipython-input-74-6de36cee9aa6>\u001b[0m in \u001b[0;36m<module>\u001b[0;34m()\u001b[0m\n\u001b[1;32m      1\u001b[0m \u001b[0;31m#X_test = X_test.to_numpy()\u001b[0m\u001b[0;34m\u001b[0m\u001b[0;34m\u001b[0m\u001b[0;34m\u001b[0m\u001b[0m\n\u001b[0;32m----> 2\u001b[0;31m \u001b[0my_test\u001b[0m \u001b[0;34m=\u001b[0m \u001b[0my_test\u001b[0m\u001b[0;34m.\u001b[0m\u001b[0mto_numpy\u001b[0m\u001b[0;34m(\u001b[0m\u001b[0;34m)\u001b[0m\u001b[0;34m\u001b[0m\u001b[0;34m\u001b[0m\u001b[0m\n\u001b[0m",
            "\u001b[0;31mAttributeError\u001b[0m: 'numpy.ndarray' object has no attribute 'to_numpy'"
          ]
        }
      ]
    },
    {
      "cell_type": "code",
      "metadata": {
        "colab": {
          "base_uri": "https://localhost:8080/"
        },
        "id": "Vy2Bet8NKQrg",
        "outputId": "70bc6b20-82c9-4cd7-d269-5220d84a024f"
      },
      "source": [
        "y_test"
      ],
      "execution_count": null,
      "outputs": [
        {
          "output_type": "execute_result",
          "data": {
            "text/plain": [
              "array([1, 1, 1, ..., 0, 0, 0])"
            ]
          },
          "metadata": {},
          "execution_count": 100
        }
      ]
    },
    {
      "cell_type": "code",
      "metadata": {
        "id": "WWbLhoRCNKgW"
      },
      "source": [
        "X_test = np.array(X_test, dtype=np.float32)\n",
        "y_test = np.array(y_test, dtype=np.float32)"
      ],
      "execution_count": null,
      "outputs": []
    },
    {
      "cell_type": "code",
      "metadata": {
        "id": "TeWHLVDBkHEu"
      },
      "source": [
        "example_id2 = np.array(['%d' % i for i in range(len(y_test))])\n",
        "x_column_name = 'x'\n",
        "example_id_column_name = 'example_id'\n",
        "\n",
        "test_input_fn = tf.compat.v1.estimator.inputs.numpy_input_fn(\n",
        "    x={x_column_name: X_test, example_id_column_name: example_id2},\n",
        "    y=y_test,\n",
        "    num_epochs=None,\n",
        "    batch_size=36029,\n",
        "    shuffle=False)\n"
      ],
      "execution_count": null,
      "outputs": []
    },
    {
      "cell_type": "code",
      "metadata": {
        "colab": {
          "base_uri": "https://localhost:8080/"
        },
        "id": "b4Phipb0ha9v",
        "outputId": "21aed526-1dac-4b60-cead-d49f0dbdf241"
      },
      "source": [
        "score = svm.evaluate(input_fn=test_input_fn, steps=1)"
      ],
      "execution_count": null,
      "outputs": [
        {
          "output_type": "stream",
          "name": "stdout",
          "text": [
            "INFO:tensorflow:Created variable linear/bias_weight:0, with device=\n",
            "INFO:tensorflow:Starting evaluation at 2021-10-30T10:15:40Z\n",
            "INFO:tensorflow:Graph was finalized.\n",
            "INFO:tensorflow:Restoring parameters from /content/drive/MyDrive/Akim_thesis/model_svm_LEVEL_15/model.ckpt-2100\n",
            "INFO:tensorflow:Running local_init_op.\n",
            "INFO:tensorflow:Done running local_init_op.\n",
            "INFO:tensorflow:Evaluation [1/1]\n",
            "INFO:tensorflow:Finished evaluation at 2021-10-30-10:15:41\n",
            "INFO:tensorflow:Saving dict for global step 2100: accuracy = 0.92070276, global_step = 2100, loss = 0.30971152\n"
          ]
        }
      ]
    },
    {
      "cell_type": "code",
      "metadata": {
        "colab": {
          "base_uri": "https://localhost:8080/"
        },
        "id": "quq5Q4F_XRZT",
        "outputId": "fdbf1735-8e68-4640-fac0-d3c10af17a98"
      },
      "source": [
        "X_test.shape"
      ],
      "execution_count": null,
      "outputs": [
        {
          "data": {
            "text/plain": [
              "(406736, 4)"
            ]
          },
          "execution_count": 59,
          "metadata": {},
          "output_type": "execute_result"
        }
      ]
    },
    {
      "cell_type": "code",
      "metadata": {
        "colab": {
          "base_uri": "https://localhost:8080/"
        },
        "id": "RV_mAupmy3cq",
        "outputId": "73891ddf-2057-47c5-c9ca-5abb16c7b1be"
      },
      "source": [
        "y_prediction = svm.predict_classes(input_fn=test_input_fn, as_iterable=False)"
      ],
      "execution_count": null,
      "outputs": [
        {
          "output_type": "stream",
          "name": "stdout",
          "text": [
            "WARNING:tensorflow:From <ipython-input-76-c8b083055c3a>:1: calling SVM.predict_classes (from tensorflow.contrib.learn.python.learn.estimators.svm) with as_iterable=False is deprecated and will be removed after 2016-09-15.\n",
            "Instructions for updating:\n",
            "The default behavior of predict() is changing. The default value for\n",
            "as_iterable will change to True, and then the flag will be removed\n",
            "altogether. The behavior of this flag is described below.\n",
            "WARNING:tensorflow:From /tensorflow-1.15.2/python3.7/tensorflow_core/contrib/learn/python/learn/estimators/svm.py:173: calling BaseEstimator.predict (from tensorflow.contrib.learn.python.learn.estimators.estimator) with as_iterable is deprecated and will be removed after 2016-12-01.\n",
            "Instructions for updating:\n",
            "Estimator is decoupled from Scikit Learn interface by moving into\n",
            "separate class SKCompat. Arguments x, y and batch_size are only\n",
            "available in the SKCompat class, Estimator will only accept input_fn.\n",
            "Example conversion:\n",
            "  est = Estimator(...) -> est = SKCompat(Estimator(...))\n",
            "INFO:tensorflow:Created variable linear/bias_weight:0, with device=\n",
            "INFO:tensorflow:Graph was finalized.\n",
            "INFO:tensorflow:Restoring parameters from /content/drive/MyDrive/Akim_thesis/model_svm_LEVEL_15/model.ckpt-2100\n",
            "INFO:tensorflow:Running local_init_op.\n",
            "INFO:tensorflow:Done running local_init_op.\n"
          ]
        }
      ]
    },
    {
      "cell_type": "code",
      "metadata": {
        "colab": {
          "base_uri": "https://localhost:8080/"
        },
        "id": "j_mRH5Hc1HAt",
        "outputId": "257066e8-1d3b-4739-c263-5d80cf1533c8"
      },
      "source": [
        "y_prediction"
      ],
      "execution_count": null,
      "outputs": [
        {
          "output_type": "execute_result",
          "data": {
            "text/plain": [
              "array([1, 1, 1, ..., 0, 0, 0])"
            ]
          },
          "metadata": {},
          "execution_count": 77
        }
      ]
    },
    {
      "cell_type": "code",
      "metadata": {
        "colab": {
          "base_uri": "https://localhost:8080/"
        },
        "id": "EeEP7srz1bZ_",
        "outputId": "6e4d0f97-f56e-415f-b8e7-641350c12e5b"
      },
      "source": [
        "print(len(y_pred[0:406736]))"
      ],
      "execution_count": null,
      "outputs": [
        {
          "name": "stdout",
          "output_type": "stream",
          "text": [
            "437812\n"
          ]
        }
      ]
    },
    {
      "cell_type": "code",
      "metadata": {
        "id": "9XfrVj-8XpRQ"
      },
      "source": [
        "y_predi = y_pred[0:406736]"
      ],
      "execution_count": null,
      "outputs": []
    },
    {
      "cell_type": "code",
      "metadata": {
        "colab": {
          "base_uri": "https://localhost:8080/"
        },
        "id": "SrSkK5X-Xs9e",
        "outputId": "c04d2d9e-007c-4cb0-b632-46b99625fa3c"
      },
      "source": [
        "from sklearn.metrics import confusion_matrix, classification_report\n",
        "import seaborn as sns\n",
        "from sklearn import preprocessing\n",
        "confusion_mtx = confusion_matrix(y_test,y_prediction)\n",
        "class_report = classification_report(y_test, y_prediction, \n",
        "                                     target_names=[\"Normal\",\"Anomaly\"])  # target_names must be ordered depending on the class labels\n",
        "print('Confusion Matrix:')\n",
        "print(confusion_mtx)\n",
        "print()\n",
        "print('Classification Report:')\n",
        "print(class_report)"
      ],
      "execution_count": null,
      "outputs": [
        {
          "output_type": "stream",
          "name": "stdout",
          "text": [
            "Confusion Matrix:\n",
            "[[17955   248]\n",
            " [ 2609 15217]]\n",
            "\n",
            "Classification Report:\n",
            "              precision    recall  f1-score   support\n",
            "\n",
            "      Normal       0.87      0.99      0.93     18203\n",
            "     Anomaly       0.98      0.85      0.91     17826\n",
            "\n",
            "    accuracy                           0.92     36029\n",
            "   macro avg       0.93      0.92      0.92     36029\n",
            "weighted avg       0.93      0.92      0.92     36029\n",
            "\n"
          ]
        }
      ]
    },
    {
      "cell_type": "code",
      "metadata": {
        "id": "1Fh4B6_zRKxI",
        "colab": {
          "base_uri": "https://localhost:8080/"
        },
        "outputId": "cc8932af-8b8f-486f-d6ae-a46b3f68ba2a"
      },
      "source": [
        "!pip install Scikit-plot"
      ],
      "execution_count": null,
      "outputs": [
        {
          "output_type": "stream",
          "name": "stdout",
          "text": [
            "Collecting Scikit-plot\n",
            "  Downloading scikit_plot-0.3.7-py3-none-any.whl (33 kB)\n",
            "Requirement already satisfied: scipy>=0.9 in /usr/local/lib/python3.7/dist-packages (from Scikit-plot) (1.4.1)\n",
            "Requirement already satisfied: scikit-learn>=0.18 in /usr/local/lib/python3.7/dist-packages (from Scikit-plot) (0.22.2.post1)\n",
            "Requirement already satisfied: joblib>=0.10 in /usr/local/lib/python3.7/dist-packages (from Scikit-plot) (1.0.1)\n",
            "Requirement already satisfied: matplotlib>=1.4.0 in /usr/local/lib/python3.7/dist-packages (from Scikit-plot) (3.2.2)\n",
            "Requirement already satisfied: kiwisolver>=1.0.1 in /usr/local/lib/python3.7/dist-packages (from matplotlib>=1.4.0->Scikit-plot) (1.3.2)\n",
            "Requirement already satisfied: numpy>=1.11 in /usr/local/lib/python3.7/dist-packages (from matplotlib>=1.4.0->Scikit-plot) (1.19.5)\n",
            "Requirement already satisfied: python-dateutil>=2.1 in /usr/local/lib/python3.7/dist-packages (from matplotlib>=1.4.0->Scikit-plot) (2.8.2)\n",
            "Requirement already satisfied: cycler>=0.10 in /usr/local/lib/python3.7/dist-packages (from matplotlib>=1.4.0->Scikit-plot) (0.10.0)\n",
            "Requirement already satisfied: pyparsing!=2.0.4,!=2.1.2,!=2.1.6,>=2.0.1 in /usr/local/lib/python3.7/dist-packages (from matplotlib>=1.4.0->Scikit-plot) (2.4.7)\n",
            "Requirement already satisfied: six in /usr/local/lib/python3.7/dist-packages (from cycler>=0.10->matplotlib>=1.4.0->Scikit-plot) (1.15.0)\n",
            "Installing collected packages: Scikit-plot\n",
            "Successfully installed Scikit-plot-0.3.7\n"
          ]
        }
      ]
    },
    {
      "cell_type": "code",
      "metadata": {
        "colab": {
          "base_uri": "https://localhost:8080/",
          "height": 342
        },
        "id": "yLUSn9410MJk",
        "outputId": "57b0902d-74f9-4886-ff10-1e1b1d3dc280"
      },
      "source": [
        "from mlxtend.plotting import plot_confusion_matrix\n",
        "import matplotlib.pyplot as plt\n",
        "import numpy as np\n",
        "import sklearn as skplt\n",
        "import scikitplot as skplt\n",
        "skplt.metrics.plot_confusion_matrix(y_test, y_prediction, figsize = (5, 5), title= 'Confusion matrix SVM Level 1' )\n",
        "plt.figure(figsize = (10,7))"
      ],
      "execution_count": null,
      "outputs": [
        {
          "output_type": "execute_result",
          "data": {
            "text/plain": [
              "<matplotlib.axes._subplots.AxesSubplot at 0x7fba426c9910>"
            ]
          },
          "metadata": {},
          "execution_count": 80
        },
        {
          "output_type": "execute_result",
          "data": {
            "text/plain": [
              "<Figure size 720x504 with 0 Axes>"
            ]
          },
          "metadata": {},
          "execution_count": 80
        },
        {
          "output_type": "display_data",
          "data": {
            "image/png": "[encoded data removed]",
            "text/plain": [
              "<Figure size 360x360 with 2 Axes>"
            ]
          },
          "metadata": {
            "needs_background": "light"
          }
        },
        {
          "output_type": "display_data",
          "data": {
            "text/plain": [
              "<Figure size 720x504 with 0 Axes>"
            ]
          },
          "metadata": {}
        }
      ]
    },
    {
      "cell_type": "code",
      "metadata": {
        "colab": {
          "base_uri": "https://localhost:8080/"
        },
        "id": "AsarW-DWlqK6",
        "outputId": "a6bee747-2206-4b62-e04a-83d073df7c2d"
      },
      "source": [
        "''''example_id = np.array(['%d' % i for i in range(len(y_train))])\n",
        "train_input_fn = tf.compat.v1.estimator.inputs.numpy_input_fn(\n",
        "    x={x_column_name: X_train, example_id_column_name: example_id},\n",
        "    y=y_train,\n",
        "    num_epochs=None,\n",
        "    shuffle=True)'''\n",
        "metrics = svm.evaluate(input_fn=train_input_fn, steps=1)\n",
        "print(\"Loss\", metrics['loss'], \"\\nAccuracy\", metrics['accuracy'])"
      ],
      "execution_count": null,
      "outputs": [
        {
          "name": "stdout",
          "output_type": "stream",
          "text": [
            "INFO:tensorflow:Created variable linear/bias_weight:0, with device=\n",
            "INFO:tensorflow:Starting evaluation at 2021-09-27T14:48:22Z\n",
            "INFO:tensorflow:Graph was finalized.\n",
            "INFO:tensorflow:Restoring parameters from /tmp/tmpre2gvlrl/model.ckpt-300000\n",
            "INFO:tensorflow:Running local_init_op.\n",
            "INFO:tensorflow:Done running local_init_op.\n",
            "INFO:tensorflow:Evaluation [1/1]\n",
            "INFO:tensorflow:Finished evaluation at 2021-09-27-14:48:22\n",
            "INFO:tensorflow:Saving dict for global step 300000: accuracy = 0.8984375, global_step = 300000, loss = 0.20556399\n",
            "Loss 0.20556399 \n",
            "Accuracy 0.8984375\n"
          ]
        }
      ]
    }
  ]
}